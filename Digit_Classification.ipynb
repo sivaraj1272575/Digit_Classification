{
  "nbformat": 4,
  "nbformat_minor": 0,
  "metadata": {
    "colab": {
      "name": "Untitled10.ipynb",
      "provenance": [],
      "collapsed_sections": []
    },
    "kernelspec": {
      "name": "python3",
      "display_name": "Python 3"
    },
    "language_info": {
      "name": "python"
    },
    "accelerator": "GPU"
  },
  "cells": [
    {
      "cell_type": "code",
      "metadata": {
        "id": "RLahs8Rf5bX5"
      },
      "source": [
        "#Import All the required libraries\n",
        "from keras.datasets import mnist\n",
        "import matplotlib.pyplot as plt\n",
        "from tensorflow.keras.models import Sequential\n",
        "from tensorflow.keras.layers import Dense,Dropout,Flatten\n",
        "from keras.layers.convolutional import Conv2D, MaxPooling2D\n",
        "from keras.utils import np_utils\n",
        "import numpy as np"
      ],
      "execution_count": 11,
      "outputs": []
    },
    {
      "cell_type": "code",
      "metadata": {
        "id": "MfykvBku5679",
        "colab": {
          "base_uri": "https://localhost:8080/"
        },
        "outputId": "9e4b94db-2f40-44b7-b32d-a7990d48a6eb"
      },
      "source": [
        "#Load Data Set\n",
        "train,test = mnist.load_data()\n",
        "X_train,y_train = train\n",
        "X_test, y_test = test"
      ],
      "execution_count": 2,
      "outputs": [
        {
          "output_type": "stream",
          "text": [
            "Downloading data from https://storage.googleapis.com/tensorflow/tf-keras-datasets/mnist.npz\n",
            "11493376/11490434 [==============================] - 0s 0us/step\n"
          ],
          "name": "stdout"
        }
      ]
    },
    {
      "cell_type": "code",
      "metadata": {
        "id": "FVkUcrnZ6YJc"
      },
      "source": [
        "#Preprocess the features\n",
        "X_train = X_train.reshape(X_train.shape[0], 28, 28, 1).astype('float32')\n",
        "X_test = X_test.reshape(X_test.shape[0], 28, 28, 1).astype('float32')\n",
        "X_train = X_train/255\n",
        "X_test = X_test/255"
      ],
      "execution_count": 3,
      "outputs": []
    },
    {
      "cell_type": "code",
      "metadata": {
        "id": "bTWNLrtZ7D37"
      },
      "source": [
        "#Preprocessing the Labels\n",
        "y_train = np_utils.to_categorical(y_train)\n",
        "y_test = np_utils.to_categorical(y_test)\n",
        "num_labels = y_train.shape[1]"
      ],
      "execution_count": 4,
      "outputs": []
    },
    {
      "cell_type": "code",
      "metadata": {
        "id": "_7BQN51N-OoB"
      },
      "source": [
        "#Creating model\n",
        "model = Sequential()\n",
        "model.add(Conv2D(32, (5,5), input_shape=(28, 28, 1), activation='relu'))\n",
        "model.add(MaxPooling2D(2,2))\n",
        "model.add(Conv2D(64, (5,5), activation='relu'))\n",
        "model.add(Conv2D(64, (5,5), activation='relu'))\n",
        "model.add(MaxPooling2D(2,2))\n",
        "model.add(Flatten())\n",
        "model.add(Dense(128, activation='relu'))\n",
        "model.add(Dense(num_labels, activation='softmax'))\n",
        "model.compile(optimizer='adam', loss='categorical_crossentropy',metrics=['accuracy'])"
      ],
      "execution_count": 34,
      "outputs": []
    },
    {
      "cell_type": "code",
      "metadata": {
        "id": "p7yC60Nb-cNA",
        "colab": {
          "base_uri": "https://localhost:8080/"
        },
        "outputId": "79d90062-cd75-46c7-a852-8d42ce6b6a8d"
      },
      "source": [
        "#Training Model\n",
        "model.fit(X_train, y_train, validation_data=(X_test, y_test), epochs=30, batch_size=200)"
      ],
      "execution_count": 35,
      "outputs": [
        {
          "output_type": "stream",
          "text": [
            "Epoch 1/30\n",
            "300/300 [==============================] - 4s 8ms/step - loss: 0.5654 - accuracy: 0.8268 - val_loss: 0.0657 - val_accuracy: 0.9782\n",
            "Epoch 2/30\n",
            "300/300 [==============================] - 2s 7ms/step - loss: 0.0680 - accuracy: 0.9792 - val_loss: 0.0398 - val_accuracy: 0.9872\n",
            "Epoch 3/30\n",
            "300/300 [==============================] - 2s 7ms/step - loss: 0.0437 - accuracy: 0.9871 - val_loss: 0.0351 - val_accuracy: 0.9890\n",
            "Epoch 4/30\n",
            "300/300 [==============================] - 2s 7ms/step - loss: 0.0326 - accuracy: 0.9898 - val_loss: 0.0304 - val_accuracy: 0.9901\n",
            "Epoch 5/30\n",
            "300/300 [==============================] - 2s 7ms/step - loss: 0.0233 - accuracy: 0.9931 - val_loss: 0.0287 - val_accuracy: 0.9906\n",
            "Epoch 6/30\n",
            "300/300 [==============================] - 2s 7ms/step - loss: 0.0203 - accuracy: 0.9936 - val_loss: 0.0324 - val_accuracy: 0.9900\n",
            "Epoch 7/30\n",
            "300/300 [==============================] - 2s 7ms/step - loss: 0.0179 - accuracy: 0.9937 - val_loss: 0.0281 - val_accuracy: 0.9912\n",
            "Epoch 8/30\n",
            "300/300 [==============================] - 2s 7ms/step - loss: 0.0146 - accuracy: 0.9951 - val_loss: 0.0270 - val_accuracy: 0.9921\n",
            "Epoch 9/30\n",
            "300/300 [==============================] - 2s 7ms/step - loss: 0.0112 - accuracy: 0.9965 - val_loss: 0.0230 - val_accuracy: 0.9929\n",
            "Epoch 10/30\n",
            "300/300 [==============================] - 2s 7ms/step - loss: 0.0103 - accuracy: 0.9968 - val_loss: 0.0330 - val_accuracy: 0.9903\n",
            "Epoch 11/30\n",
            "300/300 [==============================] - 2s 7ms/step - loss: 0.0110 - accuracy: 0.9964 - val_loss: 0.0305 - val_accuracy: 0.9906\n",
            "Epoch 12/30\n",
            "300/300 [==============================] - 2s 8ms/step - loss: 0.0079 - accuracy: 0.9974 - val_loss: 0.0302 - val_accuracy: 0.9903\n",
            "Epoch 13/30\n",
            "300/300 [==============================] - 2s 8ms/step - loss: 0.0086 - accuracy: 0.9970 - val_loss: 0.0304 - val_accuracy: 0.9907\n",
            "Epoch 14/30\n",
            "300/300 [==============================] - 2s 7ms/step - loss: 0.0053 - accuracy: 0.9984 - val_loss: 0.0299 - val_accuracy: 0.9917\n",
            "Epoch 15/30\n",
            "300/300 [==============================] - 2s 8ms/step - loss: 0.0066 - accuracy: 0.9977 - val_loss: 0.0294 - val_accuracy: 0.9918\n",
            "Epoch 16/30\n",
            "300/300 [==============================] - 2s 8ms/step - loss: 0.0058 - accuracy: 0.9982 - val_loss: 0.0314 - val_accuracy: 0.9917\n",
            "Epoch 17/30\n",
            "300/300 [==============================] - 2s 7ms/step - loss: 0.0057 - accuracy: 0.9979 - val_loss: 0.0312 - val_accuracy: 0.9923\n",
            "Epoch 18/30\n",
            "300/300 [==============================] - 2s 7ms/step - loss: 0.0056 - accuracy: 0.9981 - val_loss: 0.0264 - val_accuracy: 0.9935\n",
            "Epoch 19/30\n",
            "300/300 [==============================] - 2s 8ms/step - loss: 0.0039 - accuracy: 0.9987 - val_loss: 0.0355 - val_accuracy: 0.9916\n",
            "Epoch 20/30\n",
            "300/300 [==============================] - 2s 8ms/step - loss: 0.0049 - accuracy: 0.9983 - val_loss: 0.0487 - val_accuracy: 0.9893\n",
            "Epoch 21/30\n",
            "300/300 [==============================] - 2s 8ms/step - loss: 0.0070 - accuracy: 0.9976 - val_loss: 0.0408 - val_accuracy: 0.9903\n",
            "Epoch 22/30\n",
            "300/300 [==============================] - 2s 8ms/step - loss: 0.0023 - accuracy: 0.9990 - val_loss: 0.0297 - val_accuracy: 0.9928\n",
            "Epoch 23/30\n",
            "300/300 [==============================] - 2s 8ms/step - loss: 0.0041 - accuracy: 0.9988 - val_loss: 0.0375 - val_accuracy: 0.9912\n",
            "Epoch 24/30\n",
            "300/300 [==============================] - 2s 8ms/step - loss: 0.0055 - accuracy: 0.9982 - val_loss: 0.0368 - val_accuracy: 0.9921\n",
            "Epoch 25/30\n",
            "300/300 [==============================] - 2s 8ms/step - loss: 0.0022 - accuracy: 0.9992 - val_loss: 0.0385 - val_accuracy: 0.9923\n",
            "Epoch 26/30\n",
            "300/300 [==============================] - 2s 8ms/step - loss: 0.0031 - accuracy: 0.9990 - val_loss: 0.0351 - val_accuracy: 0.9922\n",
            "Epoch 27/30\n",
            "300/300 [==============================] - 2s 8ms/step - loss: 0.0034 - accuracy: 0.9986 - val_loss: 0.0351 - val_accuracy: 0.9919\n",
            "Epoch 28/30\n",
            "300/300 [==============================] - 2s 8ms/step - loss: 0.0049 - accuracy: 0.9982 - val_loss: 0.0384 - val_accuracy: 0.9912\n",
            "Epoch 29/30\n",
            "300/300 [==============================] - 2s 8ms/step - loss: 0.0039 - accuracy: 0.9984 - val_loss: 0.0363 - val_accuracy: 0.9931\n",
            "Epoch 30/30\n",
            "300/300 [==============================] - 2s 8ms/step - loss: 0.0011 - accuracy: 0.9997 - val_loss: 0.0362 - val_accuracy: 0.9924\n"
          ],
          "name": "stdout"
        },
        {
          "output_type": "execute_result",
          "data": {
            "text/plain": [
              "<tensorflow.python.keras.callbacks.History at 0x7febe8255c10>"
            ]
          },
          "metadata": {
            "tags": []
          },
          "execution_count": 35
        }
      ]
    },
    {
      "cell_type": "code",
      "metadata": {
        "id": "0scwmgkAAfka",
        "colab": {
          "base_uri": "https://localhost:8080/"
        },
        "outputId": "c57b2fcf-2562-42ed-9a7b-70af49e4adb4"
      },
      "source": [
        "#Model Evluation\n",
        "model.evaluate(X_test, y_test, verbose=1)"
      ],
      "execution_count": 36,
      "outputs": [
        {
          "output_type": "stream",
          "text": [
            "313/313 [==============================] - 1s 3ms/step - loss: 0.0362 - accuracy: 0.9924\n"
          ],
          "name": "stdout"
        },
        {
          "output_type": "execute_result",
          "data": {
            "text/plain": [
              "[0.03623882308602333, 0.9923999905586243]"
            ]
          },
          "metadata": {
            "tags": []
          },
          "execution_count": 36
        }
      ]
    },
    {
      "cell_type": "code",
      "metadata": {
        "id": "jvRb1-Y_kY9U"
      },
      "source": [
        "#Saving Model\n",
        "model.save('/content/drive/MyDrive/Digit Classification/model.h5')"
      ],
      "execution_count": 37,
      "outputs": []
    },
    {
      "cell_type": "code",
      "metadata": {
        "id": "X62fJ5v00s7e"
      },
      "source": [
        "#Using the model for prediction\n",
        "from tensorflow.keras.models import load_model\n",
        "from keras.preprocessing.image import load_img, img_to_array\n",
        "model = load_model('/content/drive/MyDrive/Digit Classification/model.h5')"
      ],
      "execution_count": 42,
      "outputs": []
    },
    {
      "cell_type": "code",
      "metadata": {
        "id": "q5v78k-B20cM"
      },
      "source": [
        "def preprocess(path):\n",
        "  img = load_img(path, color_mode='grayscale', target_size=(28,28))\n",
        "  img = img_to_array(img)\n",
        "  img = img.reshape(1, 28, 28, 1)\n",
        "  img = img.astype('float32')\n",
        "  img = img/255\n",
        "  return img"
      ],
      "execution_count": 47,
      "outputs": []
    },
    {
      "cell_type": "code",
      "metadata": {
        "colab": {
          "base_uri": "https://localhost:8080/"
        },
        "id": "Itd62SGX4as_",
        "outputId": "912e0e77-2c56-48ff-e664-1f221503c62a"
      },
      "source": [
        "img = preprocess('/content/drive/MyDrive/Digit Classification/sample_image.png')\n",
        "x = model.predict(img)\n",
        "print(np.argmax(x))"
      ],
      "execution_count": 48,
      "outputs": [
        {
          "output_type": "stream",
          "text": [
            "7\n"
          ],
          "name": "stdout"
        }
      ]
    },
    {
      "cell_type": "code",
      "metadata": {
        "colab": {
          "base_uri": "https://localhost:8080/"
        },
        "id": "TcV7r_GJ4r1F",
        "outputId": "7a3796af-0d98-4c8e-dd7b-6adf5c8b82ed"
      },
      "source": [
        "img = preprocess('/content/drive/MyDrive/Digit Classification/5.png')\n",
        "x = model.predict(img)\n",
        "print(np.argmax(x))"
      ],
      "execution_count": 49,
      "outputs": [
        {
          "output_type": "stream",
          "text": [
            "5\n"
          ],
          "name": "stdout"
        }
      ]
    },
    {
      "cell_type": "code",
      "metadata": {
        "id": "XF59QJjF5R5p"
      },
      "source": [
        ""
      ],
      "execution_count": null,
      "outputs": []
    }
  ]
}